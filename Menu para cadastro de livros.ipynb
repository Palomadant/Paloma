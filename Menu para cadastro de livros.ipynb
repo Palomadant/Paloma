{
  "nbformat": 4,
  "nbformat_minor": 0,
  "metadata": {
    "colab": {
      "provenance": [],
      "authorship_tag": "ABX9TyPcRQZR7j8L+tDPN1S/IpJA",
      "include_colab_link": true
    },
    "kernelspec": {
      "name": "python3",
      "display_name": "Python 3"
    },
    "language_info": {
      "name": "python"
    }
  },
  "cells": [
    {
      "cell_type": "markdown",
      "metadata": {
        "id": "view-in-github",
        "colab_type": "text"
      },
      "source": [
        "<a href=\"https://colab.research.google.com/github/Palomadant/Paloma/blob/an%C3%A1lise/Menu%20para%20cadastro%20de%20livros.ipynb\" target=\"_parent\"><img src=\"https://colab.research.google.com/assets/colab-badge.svg\" alt=\"Open In Colab\"/></a>"
      ]
    },
    {
      "cell_type": "code",
      "execution_count": null,
      "metadata": {
        "id": "rRe278gPe2Xe"
      },
      "outputs": [],
      "source": [
        "import os\n",
        "opção = 0\n",
        "tam = 5\n",
        "listas=[]\n",
        "import random\n",
        "def aleatorio():\n",
        "  return random.randint(0,1000000)\n",
        "\n",
        "while True:\n",
        "    print(\"1-Cadastrar Livro\")\n",
        "    print(\"2-Listar Livros Cadastrados\")\n",
        "    print(\"0-Sair\")\n",
        "    op = int(input())#Escolha da opcao\n",
        "    if(op!= 0 and op != 1 and op!=2):\n",
        "        print(\"Erro: opção inválida!\")\n",
        "    if(len(listas)>=5):\n",
        "        print(\"Sistema de cadastro lotado. Não é possível armazenar mais informações!\")\n",
        "      \n",
        "    if op == 1:\n",
        "      for i in range (0, tam, 1):\n",
        "        nova = [] # cria uma lista para adicionar o id, nome do livro, editora e autor\n",
        "        id = aleatorio()\n",
        "        nome_do_livro = input(\"Digite o nome do livro\")\n",
        "        nome_do_autor = input(\"Digite o autor\")\n",
        "        nome_da_editora = input(\"Digite a Editora\")\n",
        "        nova.append(id)\n",
        "        nova.append(nome_do_livro)\n",
        "        nova.append(nome_do_autor)\n",
        "        nova.append(nome_da_editora)\n",
        "        listas.append(nova)#Adiciona a lista criada com o cadastro do livro, autor e editora dentro da lista\n",
        "\n",
        "    elif op == 2:\n",
        "      if(len(listas)==0):\n",
        "        print(\"Lista vazia!\")\n",
        "      else: \n",
        "        for i in range (0, tam, 1):\n",
        "          for mostrar in listas:\n",
        "              for mostrar2 in mostrar:\n",
        "                print(mostrar2)#mostra tudo dentro da lista\n",
        "      \n",
        "\n",
        "    elif op == 0:\n",
        "      for i in range (0, tam, 1):\n",
        "        print(\"Sair do Sistema\")\n",
        "\n",
        "\n",
        "      \n",
        "\n"
      ]
    },
    {
      "cell_type": "code",
      "source": [],
      "metadata": {
        "id": "L22ochXbIeXE"
      },
      "execution_count": null,
      "outputs": []
    },
    {
      "cell_type": "code",
      "source": [],
      "metadata": {
        "id": "9LqmwvDmIe4d"
      },
      "execution_count": null,
      "outputs": []
    },
    {
      "cell_type": "code",
      "source": [],
      "metadata": {
        "id": "WJtQPmqwaUxe"
      },
      "execution_count": null,
      "outputs": []
    }
  ]
}